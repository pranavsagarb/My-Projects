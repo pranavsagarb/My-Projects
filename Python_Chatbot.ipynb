{
  "nbformat": 4,
  "nbformat_minor": 0,
  "metadata": {
    "kernelspec": {
      "display_name": "Python 3",
      "language": "python",
      "name": "python3"
    },
    "language_info": {
      "codemirror_mode": {
        "name": "ipython",
        "version": 3
      },
      "file_extension": ".py",
      "mimetype": "text/x-python",
      "name": "python",
      "nbconvert_exporter": "python",
      "pygments_lexer": "ipython3",
      "version": "3.5.0"
    },
    "colab": {
      "provenance": []
    }
  },
  "cells": [
    {
      "cell_type": "markdown",
      "metadata": {
        "id": "GcdLxaMl0JMp"
      },
      "source": [
        "The problem is to identify the Zodiac Sign from the conversation with the user, using Python Chabot approach."
      ]
    },
    {
      "cell_type": "markdown",
      "metadata": {
        "id": "48cT_Ybr818p"
      },
      "source": [
        "### Below is the code for the Python Chatbot"
      ]
    },
    {
      "cell_type": "code",
      "metadata": {
        "id": "tpZ-i7ndxPzU"
      },
      "source": [
        "# Import Libraries\n",
        "import json\n",
        "import random\n",
        "import os\n",
        "import re\n",
        "from sklearn.metrics import precision_score\n",
        "from sklearn.metrics import accuracy_score\n",
        "import pandas as pd\n",
        "import pandas as pd\n",
        "import datetime\n",
        "import csv\n",
        "import gensim\n",
        "import numpy as np\n",
        "from sklearn.neighbors import KNeighborsClassifier\n",
        "from sklearn.tree import DecisionTreeClassifier\n",
        "from statistics import mode \n",
        "from sklearn.feature_extraction.text import TfidfVectorizer\n",
        "from sklearn.feature_extraction.text import CountVectorizer"
      ],
      "execution_count": null,
      "outputs": []
    },
    {
      "cell_type": "markdown",
      "metadata": {
        "id": "D7hlFsGdprgg"
      },
      "source": [
        "Class Objects\n",
        "*   Contexts - For differentiating the phases during the chat conversation, it’s state should be stored. It can either be flags like “Ordering book” or parameters like “Restaurant: ‘McDonalds’”. With context, you can easily relate intents without knowing what the previous question was. So contexts can be thought of as  flags that are switched on to recognize and maintain relevance to current phase of conversation or switched off to change or exit the phase of conversation. These could also be used as conditional if-else statements. Below are the functions:\n",
        "\n",
        "    - activate_context( ) and\n",
        "\n",
        "    - deactivate_context( ) \n",
        "\n",
        "* We also have classes like \n",
        "\n",
        "    - FirstGreeting( ), \n",
        "    - IntentComplete( ) etc..\n",
        "\n",
        "\n",
        "\n",
        "    "
      ]
    },
    {
      "cell_type": "code",
      "metadata": {
        "id": "7pyAt_6R1ld3"
      },
      "source": [
        "class Context(object):\n",
        "\n",
        "\tdef __init__(self,name):\n",
        "\t\tself.lifespan = 2\n",
        "\t\tself.name = name\n",
        "\t\tself.active = False\n",
        "\n",
        "\tdef activate_context(self):\n",
        "\t\tself.active = True\n",
        "\n",
        "\tdef deactivate_context(self):\n",
        "\t\tself.active = False\n",
        "\n",
        "\t\tdef decrease_lifespan(self):\n",
        "\t\t\tself.lifespan -= 1\n",
        "\t\t\tif self.lifespan==0:\n",
        "\t\t\t\tself.deactivate_context()\n",
        "\n",
        "class FirstGreeting(Context): \n",
        "\n",
        "\tdef __init__(self):\n",
        "\t\tself.lifespan = 1\n",
        "\t\tself.name = 'FirstGreeting'\n",
        "\t\tself.active = True\n",
        "\n",
        "class IntentComplete(Context):\n",
        "\n",
        "\tdef __init__(self):\n",
        "\t\tself.lifespan = 1\n",
        "\t\tself.name = 'IntentComplete'\n",
        "\t\tself.active = True\n"
      ],
      "execution_count": null,
      "outputs": []
    },
    {
      "cell_type": "markdown",
      "metadata": {
        "id": "QO24KH8MDtW1"
      },
      "source": [
        "Intents - We have a class for Intent object. For every Intent we have it's name and particular action and parameters. For parameters we load a 'Parameter' object and it has name, prompts, placeholder etc..."
      ]
    },
    {
      "cell_type": "code",
      "metadata": {
        "id": "5TSmhl43xrFE"
      },
      "source": [
        "from abc import ABCMeta, abstractmethod\n",
        "class Intent(object):\t\n",
        "\n",
        "\n",
        "\tdef __init__(self, name, params, action):\n",
        "\t\tself.name = name\n",
        "\t\tself.action = action\n",
        "\t\tself.params = []\n",
        "\t\tfor param in params:\n",
        "\t\t\t# print param['required']\n",
        "\t\t\tself.params += [Parameter(param)]\n",
        "\n",
        "class Parameter():\n",
        "\tdef __init__(self, info):\n",
        "\t\tself.name = info['name']\n",
        "\t\tself.placeholder = info['placeholder']\n",
        "\t\tself.prompts = info['prompts']\n",
        "\t\tself.required = info['required']\n",
        "\t\tself.context = info['context']"
      ],
      "execution_count": null,
      "outputs": []
    },
    {
      "cell_type": "markdown",
      "metadata": {
        "id": "WufHTIxoi0vD"
      },
      "source": [
        "Created .dat files of entities and Intent in the respective folders. Also updated configuration file in the params folder and csv file. \n",
        "\n",
        "Run the below code to download the Horoscope intents (called as Utterances in Alexa chatbot), entites (called as Slots in Alexa chatbot), param (config file) and the csv file which contain the possible combinations  to identify the horoscope based on the birthday given"
      ]
    },
    {
      "cell_type": "code",
      "metadata": {
        "id": "vjiqJj8liyrb",
        "cellView": "form",
        "outputId": "29f168a8-341c-4432-9cf0-067a8ff49369",
        "colab": {
          "base_uri": "https://localhost:8080/",
          "height": 417
        }
      },
      "source": [
        "#@title Run this cell to complete the set up\n",
        "!wget https://cdn.talentsprint.com/aiml/Hackathon2/chatbot_Horoscope.zip\n",
        "!unzip chatbot_Horoscope.zip"
      ],
      "execution_count": null,
      "outputs": [
        {
          "output_type": "stream",
          "text": [
            "--2020-05-15 15:42:50--  https://cdn.talentsprint.com/aiml/Hackathon2/chatbot_Horoscope.zip\n",
            "Resolving cdn.talentsprint.com (cdn.talentsprint.com)... 172.105.34.236\n",
            "Connecting to cdn.talentsprint.com (cdn.talentsprint.com)|172.105.34.236|:443... connected.\n",
            "HTTP request sent, awaiting response... 200 OK\n",
            "Length: 2641 (2.6K) [application/zip]\n",
            "Saving to: ‘chatbot_Horoscope.zip’\n",
            "\n",
            "chatbot_Horoscope.z 100%[===================>]   2.58K  --.-KB/s    in 0s      \n",
            "\n",
            "2020-05-15 15:42:51 (291 MB/s) - ‘chatbot_Horoscope.zip’ saved [2641/2641]\n",
            "\n",
            "Archive:  chatbot_Horoscope.zip\n",
            "   creating: chatbot_Horoscope/\n",
            "   creating: chatbot_Horoscope/entities/\n",
            "  inflating: chatbot_Horoscope/entities/day.dat  \n",
            "  inflating: chatbot_Horoscope/entities/month.dat  \n",
            "  inflating: chatbot_Horoscope/entities/year.dat  \n",
            "  inflating: chatbot_Horoscope/Horoscope.csv  \n",
            "   creating: chatbot_Horoscope/intents/\n",
            "  inflating: chatbot_Horoscope/intents/get_Horoscope.dat  \n",
            "   creating: chatbot_Horoscope/params/\n",
            "  inflating: chatbot_Horoscope/params/newparams.cfg  \n"
          ],
          "name": "stdout"
        }
      ]
    },
    {
      "cell_type": "code",
      "metadata": {
        "id": "X6EweGIEIKmL"
      },
      "source": [
        "path_param = '/content/chatbot_Horoscope/params/newparams.cfg'\n",
        "path_intent= '/content/chatbot_Horoscope/intents/'\n",
        "path_entities= '/content/chatbot_Horoscope/entities/'\n",
        "path_csv = '/content/chatbot_Horoscope/Horoscope.csv'"
      ],
      "execution_count": null,
      "outputs": []
    },
    {
      "cell_type": "markdown",
      "metadata": {
        "id": "pjQr5bPZ3j40"
      },
      "source": [
        "Text Representation\n",
        "\n",
        "Generate ngrams and Perform precision recall to get accuracy for matching ngrams. \n"
      ]
    },
    {
      "cell_type": "code",
      "metadata": {
        "id": "4-zMKi5kxjzk"
      },
      "source": [
        "# Generate ngrams and Perform precision recall to get accuracy for matching ngrams.\n",
        "\n",
        "limit = 3\n",
        "\n",
        "def generatengrams(lines):\n",
        "    global limit\n",
        "    ngrams = []\n",
        "    for i in range(1, limit+1):\n",
        "        ndict = {}\n",
        "        for line in lines:\n",
        "            nline = ['<START>']*i + line + ['<END>']*i\n",
        "            for x in range(len(nline)- i) :\n",
        "                key = '_'.join(nline[x:x+i])\n",
        "                if key in ndict.keys():\n",
        "                    ndict[key] += 1\n",
        "                else:\n",
        "                    ndict[key] = 1\n",
        "        ngrams += [ndict]\n",
        "    return ngrams\n",
        "\n",
        "#Splitting the line by ignoring new line character at the end\n",
        "def cleanLines(lines):\n",
        "    for i in range(len(lines)):\n",
        "        lines[i] = lines[i][:-1].split()\n",
        "        for x in range(len(lines[i])):\n",
        "            lines[i][x] = lines[i][x].lower()\n",
        "    return lines\n",
        "\n",
        "#Initializing Ngrams dictionary for provided intents\n",
        "def init():\n",
        "    ngramsdict = {}\n",
        "    path = path_intent\n",
        "\n",
        "    for fil in os.listdir(path):\n",
        "        if fil.endswith('.dat'):\t\n",
        "            with open(path + fil) as f:\n",
        "                lines = f.readlines()\n",
        "                lines = cleanLines(lines)\n",
        "                ngramsdict[''.join(fil.split('.')[:-1])] = generatengrams(lines)\n",
        "    return ngramsdict\n",
        "\n",
        "#ngrammatch takes user input and returns score by comparing input with intents provided\n",
        "def ngrammatch(uinput, BotsGramsdict=init()):\n",
        "    global limit\n",
        "    scores = []\n",
        "    uinput = [uinput.lower().split()]\n",
        "    user_ngramsdict = generatengrams(uinput)\n",
        "    for key in BotsGramsdict:\n",
        "        ngramsdict = BotsGramsdict[key]\n",
        "        fscore = 0.0\n",
        "        for i in range(len(user_ngramsdict)):\n",
        "            cur_dict = user_ngramsdict[i]\n",
        "            ansdict = ngramsdict[i]\n",
        "            precision = 0\t\n",
        "            for i in cur_dict.keys():\n",
        "                if i in ansdict.keys():\n",
        "                    precision+=1\n",
        "            recall = 0\n",
        "            for i in ansdict.keys():\n",
        "                if i in cur_dict.keys():\n",
        "                    recall+=1\n",
        "            fscore += 1.0/float((len(ansdict.keys())/float(precision) + len(ansdict.keys())/float(recall)))\n",
        "        scores+= [(key,fscore)]\n",
        "    return scores"
      ],
      "execution_count": null,
      "outputs": []
    },
    {
      "cell_type": "markdown",
      "metadata": {
        "id": "WSwQI3v0H6kR"
      },
      "source": [
        "Defining functions for Loading Intent, Collecting params, Checking actions, Identifying Intents and Getting Attributes "
      ]
    },
    {
      "cell_type": "code",
      "metadata": {
        "id": "rOSOi2L4xPzZ"
      },
      "source": [
        "def loadIntent(path, intent):\n",
        "    with open(path) as fil:\n",
        "        dat = json.load(fil)\n",
        "        intent = dat[intent]\n",
        "        return Intent(intent['intentname'],intent['Parameters'], intent['actions'])\n",
        "\n",
        "\n",
        "def check_required_params(current_intent, attributes, context):\n",
        "    '''Collects attributes pertaining to the current intent'''\n",
        "    for para in current_intent.params:     \t\n",
        "        if para.required:\n",
        "            if para.name not in attributes:\n",
        "                return random.choice(para.prompts), context\n",
        "    return None, context\n",
        "    \n",
        "\n",
        "def check_actions(current_intent, attributes, context):\n",
        "    '''This function performs the action for the intent as mentioned \n",
        "    in the intent config file. Performs actions pertaining to current intent \n",
        "    for action in current_intent.actions: \n",
        "    if action.contexts_satisfied(active_contexts):\n",
        "            return perform_action()'''\n",
        "\n",
        "    context = IntentComplete()\n",
        "    return current_intent.action, context\n",
        "\n",
        "\n",
        "def input_processor(user_input, context, attributes, intent):\n",
        "    '''Update the attributes, abstract over the entities in user input'''\n",
        "    attributes, cleaned_input = getattributes(user_input, context, attributes)\n",
        "    return attributes, cleaned_input\n",
        "    \n",
        "\n",
        "def intentIdentifier(clean_input, context,current_intent):\n",
        "    clean_input = clean_input.lower()\n",
        "    scores = ngrammatch(clean_input)\n",
        "    \n",
        "    #choosing here the intent with the highest score\n",
        "    scores = sorted_by_second = sorted(scores, key=lambda tup: tup[1])   \n",
        "    if(current_intent==None):\n",
        "        return loadIntent(path_param,scores[-1][0])\n",
        "    else:\n",
        "        #If current intent is not none, stick with the ongoing intent\n",
        "        return current_intent\n",
        "\n",
        "\n",
        "def getattributes(uinput,context,attributes):\n",
        "    '''This function marks the entities in user input, and updates\n",
        "    the attributes dictionary'''\n",
        "\n",
        "    if context.name.startswith('IntentComplete'):\n",
        "        return attributes, uinput\n",
        "    else:\n",
        "        #Code can be optimised here, loading the same files each time suboptimal \n",
        "        files = os.listdir(path_entities)\n",
        "        entities = {}\n",
        "        for fil in files:\n",
        "            if fil == \".ipynb_checkpoints\":\n",
        "                continue\n",
        "            lines = open(path_entities+fil).readlines()\n",
        "            for i, line in enumerate(lines):\n",
        "                if lines[i].endswith('/n'):\n",
        "                  lines[i] = line[:-2]\n",
        "                lines[i]=lines[i].strip()\n",
        "\n",
        "                if lines[i].lower() in uinput.lower():\n",
        "                    attributes[fil[:-4]] = lines[i]\n",
        "                uinput = re.sub(line,r'$'+fil[:-4],uinput,flags=re.IGNORECASE)\n",
        "        return attributes, uinput                        "
      ],
      "execution_count": null,
      "outputs": []
    },
    {
      "cell_type": "markdown",
      "metadata": {
        "id": "V9fHBxSLtsXJ"
      },
      "source": [
        "Session class is one active session of the chatbot which the user interacts with. Let's go in to the details:\n",
        "\n",
        "**reply( )** is the important one in our session object it takes user_input as parameter and calls different modules of our chatbot architecture:\n",
        "\n",
        "\n",
        "*   **input_processor( )** - It helps in preprocessing and fetching the entities that we can identify in the ready state\n",
        "    \n",
        "    - **getattributes( )** - It helps in identifying all the entities in the user utterance. We fetch them and map to our parameters\n",
        "    \n",
        "    \n",
        "*   **intentIdentifier( )**\n",
        "\n",
        "    - **generatengrams** - N-grams are contiguous sequences of n-items in a sentence. When performing machine learning tasks related to natural language processing, we usually need to generate n-grams from input sentences.\n",
        "     **ngrammatch( )** - generates sequence of words, this algorithm checks for how many unigrams, bigrams, trigrams are common between the utterances for your particular intent and your current user input.\n",
        "     \n",
        "\n",
        "*   **check_required_params( )** - Based on the current intents we go over it's parameters\n",
        "\n",
        "*   **check_actions( )** - This function performs the action for the intent\n",
        "\n",
        "\n",
        "       \n"
      ]
    },
    {
      "cell_type": "code",
      "metadata": {
        "id": "GBoztIsWxPzd"
      },
      "source": [
        "class Session:\n",
        "    def __init__(self, attributes=None, active_contexts=[FirstGreeting(), IntentComplete() ]):     \n",
        "        '''Initialise a default session'''\n",
        "        #Active contexts not used yet, can use it to have multiple contexts\n",
        "        self.active_contexts = active_contexts\n",
        "        \n",
        "        #Contexts are flags which control dialogue flow       \n",
        "        self.context = FirstGreeting()\n",
        "        \n",
        "        #Intent tracks the current state of dialogue\n",
        "        self.current_intent = FirstGreeting()\n",
        "        self.current_intent = None\n",
        "        \n",
        "        #attributes hold the information collected over the conversation\n",
        "        self.attributes = {}\n",
        "        \n",
        "    def update_contexts(self):\n",
        "        '''Not used yet, but is intended to maintain active contexts'''\n",
        "        for context in self.active_contexts:\n",
        "            if context.active:\n",
        "                context.decrease_lifespan()\n",
        "    global intentCompleted\n",
        "    def reply(self, user_input):\n",
        "        '''Generate response to user input'''\n",
        "        global intentCompleted\n",
        "        intentCompleted=False\n",
        "        self.attributes, clean_input = input_processor(user_input, self.context, self.attributes, self.current_intent)\n",
        "\n",
        "        self.current_intent = intentIdentifier(clean_input, self.context, self.current_intent)\n",
        "\n",
        "        prompt, self.context = check_required_params(self.current_intent, self.attributes, self.context)\n",
        "\n",
        "       \n",
        "        #promp\"\"t being None means all parameters satisfied, perform the intent action\n",
        "        \n",
        "        global attr\n",
        "        if prompt is None:\n",
        "            if self.context.name!='IntentComplete':\n",
        "                prompt, self.context = check_actions(self.current_intent, self.attributes, self.context)\n",
        "                if prompt.endswith('()'):\n",
        "                  attr=self.attributes\n",
        "                  prompt=eval(prompt)\n",
        "        \n",
        "        #Resets the state after the Intent is complete\n",
        "        if self.context.name=='IntentComplete':\n",
        "            self.attributes = {}\n",
        "            intentCompleted=True # It becomes true when the intent is completed\n",
        "            self.context = FirstGreeting()\n",
        "            self.current_intent = None\n",
        "        return prompt"
      ],
      "execution_count": null,
      "outputs": []
    },
    {
      "cell_type": "markdown",
      "metadata": {
        "id": "1EuAOMEtbB35"
      },
      "source": [
        "Run This API Blocks to perform action after satisfying all the attributes specified for particular Intent"
      ]
    },
    {
      "cell_type": "code",
      "metadata": {
        "id": "Let9KSeDbDAi"
      },
      "source": [
        "def get_HoroscopeAction():    \n",
        "  global attr\n",
        "  print(\"choosen attributes are\",attr)\n",
        "  year = attr['year']\n",
        "  month = attr['month'] # month is a string, and we need to convert it to a month index\n",
        "  day = int(attr['day'])\n",
        "  \n",
        "  try:\n",
        "      month = int(datetime.datetime.strptime(month,'%b').strftime('%m'))\n",
        "  except:\n",
        "      month = int(datetime.datetime.strptime(month,'%B').strftime('%m'))\n",
        "  \n",
        "  horoscope=\"\"\n",
        "  usr_dob = (month,day)\n",
        "  with open(path_csv, 'r') as file:\n",
        "    reader = csv.reader(file)\n",
        "    for row in reader:        \n",
        "        if filter(row[0]) <= usr_dob <= filter(row[1]):\n",
        "            horoscope=row[2]\n",
        "  return \"Your Horoscope is \"+horoscope\n",
        "   \n",
        "\n",
        "def filter(X):\n",
        "    date = X.split()\n",
        "    try:\n",
        "      month = int(datetime.datetime.strptime(date[0],'%b').strftime('%m'))\n",
        "    except:\n",
        "      month = int(datetime.datetime.strptime(date[0],'%B').strftime('%m'))\n",
        "    day = int(datetime.datetime.strptime(date[1],'%d').strftime('%d'))\n",
        "    return (month,day)"
      ],
      "execution_count": null,
      "outputs": []
    },
    {
      "cell_type": "markdown",
      "metadata": {
        "id": "iJHrDux6Ho-K"
      },
      "source": [
        "###Main Block to access ChatBot\n",
        "enter 'end' to stop the bot"
      ]
    },
    {
      "cell_type": "code",
      "metadata": {
        "id": "fF8Ju_AMxPzf",
        "outputId": "e8019b0b-f337-43df-deed-b6b36814b855",
        "colab": {
          "base_uri": "https://localhost:8080/",
          "height": 399
        }
      },
      "source": [
        "print ('BOT: Hi! How may I assist you?')\n",
        "session=Session()\n",
        "attr={}\n",
        "intentCompleted=False\n",
        "while (True):\n",
        "    inp = input('User: ')\n",
        "    prompt=session.reply(inp)\n",
        "    print ('BOT:', prompt)\n",
        "    if intentCompleted:\n",
        "      a=input(\"BOT: Do you want to proceed (Y/N)?\")\n",
        "      if a.lower().startswith( \"n\"):          \n",
        "        print(\"GoodBye\")\n",
        "        break\n",
        "      else:\n",
        "        print(\"BOT: welcome back..\") "
      ],
      "execution_count": null,
      "outputs": [
        {
          "output_type": "stream",
          "text": [
            "BOT: Hi! How may I assist you?\n",
            "User: hi\n",
            "BOT: Which day(date) were you born?\n",
            "User: 25th october\n",
            "BOT: What is your year of birth?\n",
            "User: 1991\n",
            "choosen attributes are {'month': 'Oct', 'day': '19', 'year': '1991'}\n",
            "BOT: Your Horoscope is Libra\n",
            "BOT: Do you want to proceed (Y/N)?y\n",
            "BOT: welcome back..\n",
            "User: y\n",
            "BOT: Which day(date) were you born?\n",
            "User: fd\n",
            "BOT: Which day(date) were you born?\n",
            "User: 25th october\n",
            "BOT: What is your year of birth?\n",
            "User: 1991\n",
            "choosen attributes are {'month': 'Oct', 'day': '19', 'year': '1991'}\n",
            "BOT: Your Horoscope is Libra\n",
            "BOT: Do you want to proceed (Y/N)?n\n",
            "GoodBye\n"
          ],
          "name": "stdout"
        }
      ]
    },
    {
      "cell_type": "code",
      "metadata": {
        "id": "UhGtC-idARWp"
      },
      "source": [],
      "execution_count": null,
      "outputs": []
    }
  ]
}